{
 "cells": [
  {
   "cell_type": "markdown",
   "metadata": {},
   "source": [
    "##Climate Change Information\n",
    "Fiona Magee\n",
    "Data Design 2"
   ]
  },
  {
   "cell_type": "markdown",
   "metadata": {},
   "source": [
    "Description of your data, url(s), metadata/provenece "
   ]
  },
  {
   "cell_type": "code",
   "execution_count": 6,
   "metadata": {},
   "outputs": [
    {
     "name": "stdout",
     "output_type": "stream",
     "text": [
      "                        country   year  temperature_change\n",
      "0  Afghanistan, Islamic Rep. of  F1961              -0.113\n",
      "1                       Albania  F1961               0.627\n",
      "2                       Algeria  F1961               0.164\n",
      "3                American Samoa  F1961               0.079\n",
      "4      Andorra, Principality of  F1961               0.736\n"
     ]
    }
   ],
   "source": [
    "import pandas as pd\n",
    "import seaborn as sns\n",
    "import numpy as np\n",
    "import plotly.express as px\n",
    "from dash import Dash, dcc, html, Input, Output\n",
    "\n",
    "# Load the dataset\n",
    "file_path = '/Users/fionamagee/Desktop/Data Design 2/Sprint Project/dataset1.csv'\n",
    "data = pd.read_csv(file_path)\n",
    "\n",
    "# Drop Unnecessary Columns\n",
    "columns_to_drop = ['ObjectId', 'ISO2', 'ISO3', 'Indicator', 'Unit', 'Source', 'CTS_Code', 'CTS_Name', 'CTS_Full_Descriptor']\n",
    "data_cleaned = data.drop(columns=columns_to_drop)\n",
    "\n",
    "# Rename Columns\n",
    "data_cleaned.rename(columns={'Country': 'country'}, inplace=True)\n",
    "\n",
    "# Deal with Missing Values\n",
    "# Fill missing values with the mean of each column, but only for numeric columns\n",
    "numeric_cols = data_cleaned.select_dtypes(include=[np.number]).columns\n",
    "data_cleaned[numeric_cols] = data_cleaned[numeric_cols].fillna(data_cleaned[numeric_cols].mean())\n",
    "\n",
    "# Tidy the Data\n",
    "# Convert the dataset from wide format to long format\n",
    "data_tidy = pd.melt(data_cleaned, id_vars=['country'], var_name='year', value_name='temperature_change')\n",
    "\n",
    "# Display the tidied dataset\n",
    "print(data_tidy.head())\n",
    "\n"
   ]
  }
 ],
 "metadata": {
  "kernelspec": {
   "display_name": "ds4003",
   "language": "python",
   "name": "python3"
  },
  "language_info": {
   "codemirror_mode": {
    "name": "ipython",
    "version": 3
   },
   "file_extension": ".py",
   "mimetype": "text/x-python",
   "name": "python",
   "nbconvert_exporter": "python",
   "pygments_lexer": "ipython3",
   "version": "3.8.18"
  }
 },
 "nbformat": 4,
 "nbformat_minor": 2
}
