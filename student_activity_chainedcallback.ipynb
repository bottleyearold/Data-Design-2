{
 "cells": [
  {
   "cell_type": "markdown",
   "metadata": {},
   "source": [
    "### Student Activity: Chained Callbacks\n",
    "\n",
    "Instructions:  \n",
    "* Use the following dataset to create a Dash app that has 2 drop down menus. The first will display the food categories and the second will display the food types based on the 1st input. "
   ]
  },
  {
   "cell_type": "code",
   "execution_count": 1,
   "metadata": {},
   "outputs": [],
   "source": [
    "# import libraries\n",
    "from dash import Dash,dcc, html, Input, Output\n",
    "import pandas as pd\n",
    "\n",
    "# Sample dataset\n",
    "data = {\n",
    "    'Category': ['Fruit', 'Fruit', 'Vegetable', 'Vegetable', 'Meat', 'Meat'],\n",
    "    'Subcategory': ['Apple', 'Banana', 'Carrot', 'Broccoli', 'Beef', 'Chicken']\n",
    "}\n",
    "\n",
    "df = pd.DataFrame(data)"
   ]
  },
  {
   "cell_type": "code",
   "execution_count": 7,
   "metadata": {},
   "outputs": [
    {
     "ename": "AttributeError",
     "evalue": "'list' object has no attribute 'unique'",
     "output_type": "error",
     "traceback": [
      "\u001b[0;31m---------------------------------------------------------------------------\u001b[0m",
      "\u001b[0;31mAttributeError\u001b[0m                            Traceback (most recent call last)",
      "\u001b[1;32m/Users/fionamagee/Desktop/Data Design 2/student_activity_chainedcallback.ipynb Cell 3\u001b[0m line \u001b[0;36m1\n\u001b[1;32m      <a href='vscode-notebook-cell:/Users/fionamagee/Desktop/Data%20Design%202/student_activity_chainedcallback.ipynb#W2sZmlsZQ%3D%3D?line=1'>2</a>\u001b[0m app \u001b[39m=\u001b[39m Dash(\u001b[39m__name__\u001b[39m)\n\u001b[1;32m      <a href='vscode-notebook-cell:/Users/fionamagee/Desktop/Data%20Design%202/student_activity_chainedcallback.ipynb#W2sZmlsZQ%3D%3D?line=3'>4</a>\u001b[0m \u001b[39m# Define the app layout\u001b[39;00m\n\u001b[1;32m      <a href='vscode-notebook-cell:/Users/fionamagee/Desktop/Data%20Design%202/student_activity_chainedcallback.ipynb#W2sZmlsZQ%3D%3D?line=4'>5</a>\u001b[0m app\u001b[39m.\u001b[39mlayout \u001b[39m=\u001b[39m html\u001b[39m.\u001b[39mDiv([\n\u001b[1;32m      <a href='vscode-notebook-cell:/Users/fionamagee/Desktop/Data%20Design%202/student_activity_chainedcallback.ipynb#W2sZmlsZQ%3D%3D?line=5'>6</a>\u001b[0m     html\u001b[39m.\u001b[39mDiv(children \u001b[39m=\u001b[39m [\n\u001b[1;32m      <a href='vscode-notebook-cell:/Users/fionamagee/Desktop/Data%20Design%202/student_activity_chainedcallback.ipynb#W2sZmlsZQ%3D%3D?line=6'>7</a>\u001b[0m         html\u001b[39m.\u001b[39mLabel(\u001b[39m'\u001b[39m\u001b[39mDropdown\u001b[39m\u001b[39m'\u001b[39m), \u001b[39m#Created dropdown and added values and specified data being used, multi made it so I could select multiple countries \u001b[39;00m\n\u001b[1;32m      <a href='vscode-notebook-cell:/Users/fionamagee/Desktop/Data%20Design%202/student_activity_chainedcallback.ipynb#W2sZmlsZQ%3D%3D?line=7'>8</a>\u001b[0m         dcc\u001b[39m.\u001b[39mDropdown(\n\u001b[1;32m      <a href='vscode-notebook-cell:/Users/fionamagee/Desktop/Data%20Design%202/student_activity_chainedcallback.ipynb#W2sZmlsZQ%3D%3D?line=8'>9</a>\u001b[0m             \u001b[39mid\u001b[39m \u001b[39m=\u001b[39m \u001b[39m'\u001b[39m\u001b[39mCategory-dropdown\u001b[39m\u001b[39m'\u001b[39m,\n\u001b[0;32m---> <a href='vscode-notebook-cell:/Users/fionamagee/Desktop/Data%20Design%202/student_activity_chainedcallback.ipynb#W2sZmlsZQ%3D%3D?line=9'>10</a>\u001b[0m             options \u001b[39m=\u001b[39m [{\u001b[39m'\u001b[39m\u001b[39mlabel\u001b[39m\u001b[39m'\u001b[39m: Category, \u001b[39m'\u001b[39m\u001b[39mvalue\u001b[39m\u001b[39m'\u001b[39m: Category} \u001b[39mfor\u001b[39;00m Category \u001b[39min\u001b[39;00m data[\u001b[39m'\u001b[39;49m\u001b[39mCategory\u001b[39;49m\u001b[39m'\u001b[39;49m]\u001b[39m.\u001b[39;49munique()],\n\u001b[1;32m     <a href='vscode-notebook-cell:/Users/fionamagee/Desktop/Data%20Design%202/student_activity_chainedcallback.ipynb#W2sZmlsZQ%3D%3D?line=10'>11</a>\u001b[0m             value \u001b[39m=\u001b[39m  [],\n\u001b[1;32m     <a href='vscode-notebook-cell:/Users/fionamagee/Desktop/Data%20Design%202/student_activity_chainedcallback.ipynb#W2sZmlsZQ%3D%3D?line=11'>12</a>\u001b[0m             multi\u001b[39m=\u001b[39m\u001b[39mTrue\u001b[39;00m\n\u001b[1;32m     <a href='vscode-notebook-cell:/Users/fionamagee/Desktop/Data%20Design%202/student_activity_chainedcallback.ipynb#W2sZmlsZQ%3D%3D?line=12'>13</a>\u001b[0m             )\n\u001b[1;32m     <a href='vscode-notebook-cell:/Users/fionamagee/Desktop/Data%20Design%202/student_activity_chainedcallback.ipynb#W2sZmlsZQ%3D%3D?line=13'>14</a>\u001b[0m     ]\n\u001b[1;32m     <a href='vscode-notebook-cell:/Users/fionamagee/Desktop/Data%20Design%202/student_activity_chainedcallback.ipynb#W2sZmlsZQ%3D%3D?line=14'>15</a>\u001b[0m )])\n\u001b[1;32m     <a href='vscode-notebook-cell:/Users/fionamagee/Desktop/Data%20Design%202/student_activity_chainedcallback.ipynb#W2sZmlsZQ%3D%3D?line=17'>18</a>\u001b[0m \u001b[39m# Define callbacks\u001b[39;00m\n\u001b[1;32m     <a href='vscode-notebook-cell:/Users/fionamagee/Desktop/Data%20Design%202/student_activity_chainedcallback.ipynb#W2sZmlsZQ%3D%3D?line=18'>19</a>\u001b[0m \n\u001b[1;32m     <a href='vscode-notebook-cell:/Users/fionamagee/Desktop/Data%20Design%202/student_activity_chainedcallback.ipynb#W2sZmlsZQ%3D%3D?line=19'>20</a>\u001b[0m \n\u001b[0;32m   (...)\u001b[0m\n\u001b[1;32m     <a href='vscode-notebook-cell:/Users/fionamagee/Desktop/Data%20Design%202/student_activity_chainedcallback.ipynb#W2sZmlsZQ%3D%3D?line=27'>28</a>\u001b[0m \n\u001b[1;32m     <a href='vscode-notebook-cell:/Users/fionamagee/Desktop/Data%20Design%202/student_activity_chainedcallback.ipynb#W2sZmlsZQ%3D%3D?line=28'>29</a>\u001b[0m \u001b[39m# Run the app\u001b[39;00m\n\u001b[1;32m     <a href='vscode-notebook-cell:/Users/fionamagee/Desktop/Data%20Design%202/student_activity_chainedcallback.ipynb#W2sZmlsZQ%3D%3D?line=29'>30</a>\u001b[0m \u001b[39mif\u001b[39;00m \u001b[39m__name__\u001b[39m \u001b[39m==\u001b[39m \u001b[39m'\u001b[39m\u001b[39m__main__\u001b[39m\u001b[39m'\u001b[39m:\n",
      "\u001b[0;31mAttributeError\u001b[0m: 'list' object has no attribute 'unique'"
     ]
    }
   ],
   "source": [
    "# Initialize the Dash app\n",
    "app = Dash(__name__)\n",
    "\n",
    "# Define the app layout\n",
    "app.layout = html.Div([\n",
    "    html.Label('Select Category:'),\n",
    "    dcc.Dropdown(\n",
    "        id = 'category-dropdown',\n",
    "        options = [\n",
    "            {'label': category, 'value': category} for category in df['Category'].unique()\n",
    "        ],\n",
    "        value=df['Category'].unique()[0]\n",
    "    ),\n",
    "\n",
    "    html.Label('Select Subcategory:'),\n",
    "    dcc.Dropdown(id='subcategory-dropdown'),\n",
    "\n",
    "    html.Div(id='output-test')\n",
    "\n",
    "])\n",
    "    \n",
    "@app.callback(\n",
    "    Output('subcategory-dropdown','options'),\n",
    "    Input('category=dropdown','value')\n",
    ")\n",
    "\n",
    "def update_subcategories(selected_category):\n",
    "    filtered_df =df[df['Country']== selected_category]\n",
    "    \n",
    "\n",
    "# Define callbacks\n",
    "\n",
    "\n",
    "# Callback function\n",
    "\n",
    "    # Filter the dataframe based on the selected category\n",
    "    \n",
    "    \n",
    "    # Generate options for the subcategory dropdown\n",
    "    \n",
    "\n",
    "# Run the app\n",
    "if __name__ == '__main__':\n",
    "    app.run_server(jupyter_mode='tab', debug=True)"
   ]
  }
 ],
 "metadata": {
  "kernelspec": {
   "display_name": "ds4003",
   "language": "python",
   "name": "python3"
  },
  "language_info": {
   "codemirror_mode": {
    "name": "ipython",
    "version": 3
   },
   "file_extension": ".py",
   "mimetype": "text/x-python",
   "name": "python",
   "nbconvert_exporter": "python",
   "pygments_lexer": "ipython3",
   "version": "3.8.18"
  }
 },
 "nbformat": 4,
 "nbformat_minor": 2
}
